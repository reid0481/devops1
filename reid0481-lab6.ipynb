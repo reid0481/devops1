{
 "cells": [
  {
   "cell_type": "code",
   "execution_count": 3,
   "id": "1bb79d5f",
   "metadata": {},
   "outputs": [],
   "source": [
    "from github import Github\n",
    "import yaml\n",
    "from github import Auth"
   ]
  },
  {
   "cell_type": "code",
   "execution_count": 4,
   "id": "152928c2",
   "metadata": {},
   "outputs": [],
   "source": [
    "data = yaml.safe_load(open(\"reid0481-credentials.yml\"))\n",
    "\n",
    "user = data[\"creds\"][\"username\"]\n",
    "token = data[\"creds\"][\"token\"]"
   ]
  },
  {
   "cell_type": "code",
   "execution_count": 5,
   "id": "f193e4d1",
   "metadata": {},
   "outputs": [],
   "source": [
    "auth = Auth.Token(token)\n",
    "\n",
    "g = Github(auth=auth)\n",
    "repo = g.get_repo(user)"
   ]
  },
  {
   "cell_type": "code",
   "execution_count": 6,
   "id": "8af022e0",
   "metadata": {},
   "outputs": [
    {
     "name": "stdout",
     "output_type": "stream",
     "text": [
      "Branches in the repo:\n",
      "  main\n"
     ]
    }
   ],
   "source": [
    "print(\"Branches in the repo:\")\n",
    "for branch in repo.get_branches():\n",
    "    print(f\"  {branch.name}\")"
   ]
  },
  {
   "cell_type": "code",
   "execution_count": 7,
   "id": "0e9b6849",
   "metadata": {},
   "outputs": [
    {
     "name": "stdout",
     "output_type": "stream",
     "text": [
      "Pull requests in the repo:\n",
      "  Added credentials to .gitignore\n",
      "  change on new branch\n"
     ]
    }
   ],
   "source": [
    "print(\"Pull requests in the repo:\")\n",
    "for pr in repo.get_pulls(state=\"all\"):\n",
    "    print(f\"  {pr.title}\")"
   ]
  },
  {
   "cell_type": "code",
   "execution_count": null,
   "id": "a23ab049",
   "metadata": {},
   "outputs": [
    {
     "name": "stdout",
     "output_type": "stream",
     "text": [
      "List of commits on branch main:\n",
      "  push python file\n",
      "  Merge pull request #2 from reid0481/my-new-branch\n",
      "\n",
      "Added credentials to .gitignore\n",
      "  Added credentials to .gitignore\n",
      "  Merge pull request #1 from reid0481/my-new-branch\n",
      "\n",
      "change on new branch\n",
      "  change on new branch\n",
      "  new line\n",
      "  This is my first commit!\n"
     ]
    }
   ],
   "source": [
    "print(\"List of commits on branch main:\")\n",
    "for commit in repo.get_commits(sha=\"main\"):\n",
    "    print(f\"  {commit.commit.message}\")"
   ]
  }
 ],
 "metadata": {
  "kernelspec": {
   "display_name": "Python 3",
   "language": "python",
   "name": "python3"
  },
  "language_info": {
   "codemirror_mode": {
    "name": "ipython",
    "version": 3
   },
   "file_extension": ".py",
   "mimetype": "text/x-python",
   "name": "python",
   "nbconvert_exporter": "python",
   "pygments_lexer": "ipython3",
   "version": "3.12.7"
  }
 },
 "nbformat": 4,
 "nbformat_minor": 5
}
