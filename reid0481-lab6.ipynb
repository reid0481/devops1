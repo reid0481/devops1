{
 "cells": [
  {
   "cell_type": "code",
   "execution_count": null,
   "id": "1bb79d5f",
   "metadata": {},
   "outputs": [],
   "source": [
    "from github import Github\n",
    "import yaml\n",
    "from github import Auth"
   ]
  },
  {
   "cell_type": "code",
   "execution_count": null,
   "id": "152928c2",
   "metadata": {},
   "outputs": [],
   "source": [
    "data = yaml.safe_load(open(\"credentials.yml\"))\n",
    "\n",
    "user = data[\"creds\"][\"username\"]\n",
    "token = data[\"creds\"][\"token\"]"
   ]
  },
  {
   "cell_type": "code",
   "execution_count": null,
   "id": "f193e4d1",
   "metadata": {},
   "outputs": [],
   "source": [
    "auth = Auth.Token(token)\n",
    "\n",
    "g = Github(auth=auth)\n",
    "repo = g.get_repo(user)"
   ]
  },
  {
   "cell_type": "code",
   "execution_count": null,
   "id": "8af022e0",
   "metadata": {},
   "outputs": [],
   "source": [
    "print(\"Branches in the repo:\")\n",
    "for branch in repo.get_branches():\n",
    "    print(f\"  {branch.name}\")"
   ]
  },
  {
   "cell_type": "code",
   "execution_count": null,
   "id": "0e9b6849",
   "metadata": {},
   "outputs": [],
   "source": [
    "print(\"Pull requests in the repo:\")\n",
    "for pr in repo.get_pulls(state=\"all\"):\n",
    "    print(f\"  {pr.title}\")"
   ]
  },
  {
   "cell_type": "code",
   "execution_count": null,
   "id": "a23ab049",
   "metadata": {},
   "outputs": [],
   "source": [
    "print(\"List of commits on branch main:\")\n",
    "for commit in repo.get_commits(sha=\"main\"):\n",
    "    print(f\"  {commit.commit.message}\")"
   ]
  }
 ],
 "metadata": {
  "language_info": {
   "name": "python"
  }
 },
 "nbformat": 4,
 "nbformat_minor": 5
}
